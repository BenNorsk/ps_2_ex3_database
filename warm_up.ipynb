{
 "cells": [
  {
   "cell_type": "markdown",
   "metadata": {},
   "source": [
    "# Warm up\n",
    "Let's start with some warm up exercises to get you familiar with the database and do some SQL querying.\n",
    "Make sure to have downloaded the NBA dataset form Kaggle as described in the README."
   ]
  },
  {
   "cell_type": "code",
   "execution_count": null,
   "metadata": {},
   "outputs": [],
   "source": [
    "import sqlite3 as sql\n",
    "import pandas as pd\n",
    "from pathlib import Path\n",
    "\n",
    "## TODO: Use pathlib to get the path to the data directory. Path(__file__) won't work in a Jupyter notebook.\n",
    "DATA_PATH = Path.cwd() / 'data/nba.sqlite'\n",
    "# There seems to be a compatibility issue with the pathy library and the processor."
   ]
  },
  {
   "cell_type": "markdown",
   "metadata": {},
   "source": [
    "## Create a SQLite connection and run some SQL queries"
   ]
  },
  {
   "cell_type": "code",
   "execution_count": null,
   "metadata": {},
   "outputs": [],
   "source": [
    "con = sql.connect(DATA_PATH)  # connect to the database\n",
    "query = 'SELECT * FROM game LIMIT 10'  # write a query that selects the first 10 rows from the game table\n",
    "top_10_game = pd.read_sql(query, con)  # read the query into a pandas dataframe\n",
    "top_10_game.head()  # print the dataframe"
   ]
  },
  {
   "cell_type": "code",
   "execution_count": null,
   "metadata": {},
   "outputs": [],
   "source": [
    "# let's look at the schema of the database\n",
    "# TODO: sqlite_master is the name of the table you want to inspeact: Replace TABLE_NAME with the name of the table you want to inspect\n",
    "query = \"\"\"\n",
    "    SELECT *\n",
    "    FROM\n",
    "    sqlite_master\n",
    "\"\"\"\n",
    "\n",
    "pd.read_sql(query, con).sort_values('name')"
   ]
  },
  {
   "cell_type": "code",
   "execution_count": null,
   "metadata": {},
   "outputs": [],
   "source": [
    "# let's see all the tables we have in the database\n",
    "# TODO: Filter for tables only\n",
    "query = \"\"\"\n",
    "    SELECT name\n",
    "    FROM sqlite_master\n",
    "    WHERE type='table'\n",
    "\"\"\"\n",
    "pd.read_sql(query, con)"
   ]
  },
  {
   "cell_type": "code",
   "execution_count": null,
   "metadata": {},
   "outputs": [],
   "source": [
    "# let's have a look at the columns in the game table\n",
    "query = \"\"\"\n",
    "    PRAGMA table_info(draft_combine_stats)\n",
    "\"\"\"\n",
    "pd.read_sql(query, con)"
   ]
  },
  {
   "cell_type": "code",
   "execution_count": null,
   "metadata": {},
   "outputs": [],
   "source": [
    "# let's find the earliest recorded game\n",
    "query = \"\"\"\n",
    "    SELECT game_date\n",
    "    FROM game\n",
    "    ORDER BY game_date\n",
    "    LIMIT 1\n",
    "\"\"\"\n",
    "\n",
    "print(pd.read_sql(query, con))\n",
    "\n",
    "# let's find the latest recorded game\n",
    "query = \"\"\"\n",
    "   PRAGMA table_info(game)\n",
    "\"\"\"\n",
    "\n",
    "print(pd.read_sql(query, con))\n"
   ]
  },
  {
   "cell_type": "code",
   "execution_count": null,
   "metadata": {},
   "outputs": [],
   "source": [
    "# 1. Interesting question: Which NBA teams had the highest (home) win percentage over time?\n",
    "# Answer: We create a \"live\" updated table that shows the win percentage of each team after each game.\n",
    "\n",
    "\n",
    "# Drop the table if it already exists\n",
    "con.execute(\"DROP TABLE IF EXISTS team_win_statistics\")\n",
    "\n",
    "# Create the table\n",
    "query = \"\"\"\n",
    "CREATE TABLE team_win_statistics AS\n",
    "SELECT \n",
    "    game.team_id_home AS team_id,\n",
    "    team_details.nickname AS team_name,\n",
    "    game.game_date AS date,\n",
    "    SUM(CASE WHEN game.wl_home = 'W' THEN 1 ELSE 0 END) OVER (PARTITION BY game.team_id_home ORDER BY game.game_date) AS wins,\n",
    "    SUM(CASE WHEN game.wl_home = 'L' THEN 1 ELSE 0 END) OVER (PARTITION BY game.team_id_home ORDER BY game.game_date) AS losses,\n",
    "    ROUND(\n",
    "        CAST(SUM(CASE WHEN game.wl_home = 'W' THEN 1 ELSE 0 END) OVER (PARTITION BY game.team_id_home ORDER BY game.game_date) AS FLOAT) /\n",
    "        NULLIF(SUM(CASE WHEN game.wl_home IN ('W', 'L') THEN 1 ELSE 0 END) OVER (PARTITION BY game.team_id_home ORDER BY game.game_date), 0),\n",
    "        2\n",
    "    ) * 100 AS win_percentage\n",
    "FROM game\n",
    "JOIN team_details\n",
    "ON game.team_id_home = team_details.team_id\n",
    "ORDER BY game.team_id_home, game.game_date;\n",
    "\"\"\"\n",
    "con.execute(query)\n",
    "# Read the first 10 rows of the new table\n",
    "query = \"\"\"\n",
    "SELECT *\n",
    "FROM team_win_statistics\n",
    "ORDER BY date DESC\n",
    "LIMIT 10\n",
    "\"\"\"\n",
    "pd.read_sql(query, con)\n"
   ]
  },
  {
   "cell_type": "code",
   "execution_count": null,
   "metadata": {},
   "outputs": [],
   "source": [
    "\n",
    "# 1. Interesting question: What is the most successful team in the NBA in terms of wins over time?\n",
    "\n",
    "\n",
    "# a. Track all wins as a time series\n",
    "con.execute(\"DROP TABLE IF EXISTS team_win_statistics\") # Drop the table if it already exists\n",
    "query = \"\"\"\n",
    "CREATE TABLE team_win_statistics AS\n",
    "SELECT \n",
    "    game.team_id_home AS team_id,\n",
    "    game.game_id AS game_id,\n",
    "    game.game_date AS date,\n",
    "    CASE WHEN game.wl_home = 'W' THEN 1 ELSE 0 END AS win,\n",
    "    ROW_NUMBER() OVER (PARTITION BY game.team_id_home ORDER BY game.game_date) AS total_games_played\n",
    "FROM game\n",
    "\n",
    "UNION ALL\n",
    "\n",
    "SELECT \n",
    "    game.team_id_away AS team_id,\n",
    "    game.game_id AS game_id,\n",
    "    game.game_date AS date,\n",
    "    CASE WHEN game.wl_away = 'W' THEN 1 ELSE 0 END AS win,\n",
    "    ROW_NUMBER() OVER (PARTITION BY game.team_id_away ORDER BY game.game_date) AS total_games_played\n",
    "FROM game\n",
    "\n",
    "ORDER BY team_id, date;\n",
    "\"\"\"\n",
    "con.execute(query)\n",
    "\n",
    "query = \"\"\"\n",
    "ALTER TABLE team_win_statistics\n",
    "ADD COLUMN team_name TEXT;\n",
    "\"\"\"\n",
    "con.execute(query)\n",
    "\n",
    "query = \"\"\"\n",
    "UPDATE team_win_statistics\n",
    "SET team_name = (\n",
    "    SELECT team_details.nickname\n",
    "    FROM team_details\n",
    "    WHERE team_details.team_id = team_win_statistics.team_id\n",
    ");\n",
    "\"\"\"\n",
    "con.execute(query)\n",
    "\n",
    "\n",
    "query=\"\"\"\n",
    "ALTER TABLE team_win_statistics\n",
    "ADD COLUMN ma_82 FLOAT;\n",
    "\"\"\"\n",
    "con.execute(query)\n",
    "query = \"\"\"\n",
    "UPDATE team_win_statistics\n",
    "SET ma_82 = (\n",
    "    SELECT ROUND(SUM(win) OVER (\n",
    "        PARTITION BY team_id\n",
    "        ORDER BY date\n",
    "        ROWS BETWEEN 81 PRECEDING AND CURRENT ROW\n",
    "    ) / 82.0, 2)\n",
    ");\n",
    "\"\"\"\n",
    "con.execute(query)\n",
    "\n",
    "\n",
    "query = \"\"\"\n",
    "SELECT *\n",
    "FROM team_win_statistics\n",
    "ORDER BY date DESC\n",
    "LIMIT 100\n",
    "\"\"\"\n",
    "pd.read_sql(query, con)\n"
   ]
  },
  {
   "cell_type": "code",
   "execution_count": null,
   "metadata": {},
   "outputs": [],
   "source": [
    "# b. Join the team names (Modify the table to include the team names)\n",
    "\n",
    "\n",
    "# Show all variables in the game table\n",
    "query = \"\"\"\n",
    "SELECT *    \n",
    "FROM team_win_statistics\n",
    "ORDER BY date DESC\n",
    "LIMIT 100\n",
    "\"\"\"\n",
    "pd.read_sql(query, con)\n",
    "con.execute(query)"
   ]
  },
  {
   "cell_type": "code",
   "execution_count": null,
   "metadata": {},
   "outputs": [],
   "source": []
  }
 ],
 "metadata": {
  "kernelspec": {
   "display_name": "nba",
   "language": "python",
   "name": "python3"
  },
  "language_info": {
   "codemirror_mode": {
    "name": "ipython",
    "version": 3
   },
   "file_extension": ".py",
   "mimetype": "text/x-python",
   "name": "python",
   "nbconvert_exporter": "python",
   "pygments_lexer": "ipython3",
   "version": "3.12.7"
  }
 },
 "nbformat": 4,
 "nbformat_minor": 2
}
