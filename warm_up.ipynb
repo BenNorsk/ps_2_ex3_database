{
 "cells": [
  {
   "cell_type": "markdown",
   "metadata": {},
   "source": [
    "# Warm up\n",
    "Let's start with some warm up exercises to get you familiar with the database and do some SQL querying.\n",
    "Make sure to have downloaded the NBA dataset form Kaggle as described in the README."
   ]
  },
  {
   "cell_type": "code",
   "execution_count": null,
   "metadata": {},
   "outputs": [],
   "source": [
    "import sqlite3 as sql\n",
    "import pandas as pd\n",
    "from pathlib import Path\n",
    "\n",
    "## TODO: Use pathlib to get the path to the data directory. Path(__file__) won't work in a Jupyter notebook.\n",
    "DATA_PATH = Path.cwd() / 'data'"
   ]
  },
  {
   "cell_type": "markdown",
   "metadata": {},
   "source": [
    "## Create a SQLite connection and run some SQL queries"
   ]
  },
  {
   "cell_type": "code",
   "execution_count": null,
   "metadata": {},
   "outputs": [],
   "source": [
    "con = sql.connect(DATA_PATH)  # connect to the database\n",
    "query = 'SELECT * FROM game LIMIT 10'  # write a query that selects the first 10 rows from the game table\n",
    "top_10_game = pd.read_sql(query, con)  # read the query into a pandas dataframe\n",
    "top_10_game.head()  # print the dataframe"
   ]
  },
  {
   "cell_type": "code",
   "execution_count": null,
   "metadata": {},
   "outputs": [],
   "source": [
    "# let's look at the schema of the database\n",
    "# TODO: sqlite_master is the name of the table you want to inspeact: Replace TABLE_NAME with the name of the table you want to inspect\n",
    "query = \"\"\"\n",
    "    SELECT *\n",
    "    FILL OUT TABLE NAME\n",
    "\"\"\"\n",
    "\n",
    "pd.read_sql(query, con).sort_values('name')"
   ]
  },
  {
   "cell_type": "code",
   "execution_count": null,
   "metadata": {},
   "outputs": [],
   "source": [
    "# let's see all the tables we have in the database\n",
    "# TODO: Filter for tables only\n",
    "query = \"\"\"\n",
    "    SELECT name\n",
    "    FROM sqlite_master\n",
    "    FILL OUT FILTER CONDITION\n",
    "\"\"\"\n",
    "pd.read_sql(query, con)"
   ]
  },
  {
   "cell_type": "code",
   "execution_count": null,
   "metadata": {},
   "outputs": [],
   "source": [
    "# let's have a look at the columns in the game table\n",
    "query = \"\"\"\n",
    "    PRAGMA table_info(draft_combine_stats)\n",
    "\"\"\"\n",
    "pd.read_sql(query, con)"
   ]
  },
  {
   "cell_type": "code",
   "execution_count": null,
   "metadata": {},
   "outputs": [],
   "source": [
    "# let's find the earliest recorded game\n",
    "query = \"\"\"\n",
    "    SELECT game_date\n",
    "    FROM game\n",
    "    ORDER BY game_date\n",
    "    LIMIT 1\n",
    "\"\"\"\n",
    "\n",
    "print(pd.read_sql(query, con))\n",
    "\n",
    "# let's find the latest recorded game\n",
    "query = \"\"\"\n",
    "    FILL OUT\n",
    "\"\"\"\n",
    "\n",
    "print(pd.read_sql(query, con))\n"
   ]
  },
  {
   "cell_type": "code",
   "execution_count": null,
   "metadata": {},
   "outputs": [],
   "source": [
    "# TODO: Find four interesting facts about the data and write a query to find the answer"
   ]
  },
  {
   "cell_type": "code",
   "execution_count": null,
   "metadata": {},
   "outputs": [],
   "source": []
  },
  {
   "cell_type": "code",
   "execution_count": null,
   "metadata": {},
   "outputs": [],
   "source": []
  }
 ],
 "metadata": {
  "kernelspec": {
   "display_name": "nba",
   "language": "python",
   "name": "python3"
  },
  "language_info": {
   "codemirror_mode": {
    "name": "ipython",
    "version": 3
   },
   "file_extension": ".py",
   "mimetype": "text/x-python",
   "name": "python",
   "nbconvert_exporter": "python",
   "pygments_lexer": "ipython3",
   "version": "3.12.3"
  }
 },
 "nbformat": 4,
 "nbformat_minor": 2
}
