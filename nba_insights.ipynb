{
 "cells": [
  {
   "cell_type": "code",
   "execution_count": null,
   "metadata": {},
   "outputs": [],
   "source": [
    "import sqlite3 as sql\n",
    "import pandas as pd\n",
    "from pathlib import Path\n",
    "import matplotlib.pyplot as plt\n",
    "import seaborn as sns\n",
    "import statsmodels.api as sm\n",
    "import nba.s01_data_wrangling as dw\n",
    "import nba.s02_data_visualisation as dv\n",
    "import warnings\n",
    "import os"
   ]
  },
  {
   "cell_type": "code",
   "execution_count": null,
   "metadata": {},
   "outputs": [],
   "source": [
    "DATA_PATH = Path.cwd() / 'data/nba.sqlite'\n",
    "con = sql.connect(DATA_PATH)\n"
   ]
  },
  {
   "cell_type": "markdown",
   "metadata": {},
   "source": [
    "# 1. Insight"
   ]
  },
  {
   "cell_type": "code",
   "execution_count": null,
   "metadata": {},
   "outputs": [],
   "source": [
    "games = dw.select_games(con)\n",
    "data = dw.create_fg3a_data(games)\n",
    "regression_results = dw.run_regressions(data)\n",
    "print(regression_results)"
   ]
  },
  {
   "cell_type": "markdown",
   "metadata": {},
   "source": [
    "Some markdown explanation here on the visualisation."
   ]
  },
  {
   "cell_type": "code",
   "execution_count": null,
   "metadata": {},
   "outputs": [],
   "source": [
    "args = {\n",
    "    'data': regression_results,\n",
    "    'y': 'fg3a_share_coefficient',\n",
    "    'x': 'year',\n",
    "    'se_min': 'se_min',\n",
    "    'se_max': 'se_max',\n",
    "    'regression': True,\n",
    "    'title': 'Importance of 3-Pointers for Winning in the NBA',\n",
    "    'xlabel': 'Year',\n",
    "    'ylabel': 'Coefficient (B1) of Share-of-3-Pointer Attempts (fgba3)',\n",
    "    'linecolor': '#1D428A'\n",
    "}\n",
    "dv.time_series_plot(**args)"
   ]
  },
  {
   "cell_type": "markdown",
   "metadata": {},
   "source": [
    "# 2. Insight"
   ]
  },
  {
   "cell_type": "code",
   "execution_count": null,
   "metadata": {},
   "outputs": [],
   "source": [
    "# a. Obtain the right data\n",
    "data = dw.get_avg_fg3_data(con)\n",
    "print(data)"
   ]
  },
  {
   "cell_type": "code",
   "execution_count": null,
   "metadata": {},
   "outputs": [],
   "source": [
    "# 2. Visualise the data\n",
    "args = {\n",
    "    'data': data,\n",
    "    'x': 'year',\n",
    "    'y': 'avg_fg3_pct_home',\n",
    "    'title': 'Success Rate of 3-Point-Shots in the NBA',\n",
    "    'xlabel': 'Year',\n",
    "    'regression': True,\n",
    "    'ylabel': 'Average 3-Point NBA Percentage per Year',\n",
    "    'linecolor': '#1D428A'\n",
    "}\n",
    "dv.time_series_plot(**args)"
   ]
  },
  {
   "cell_type": "markdown",
   "metadata": {},
   "source": [
    "Explanatory Text.\n"
   ]
  },
  {
   "cell_type": "markdown",
   "metadata": {},
   "source": [
    "# 3. Insight"
   ]
  },
  {
   "cell_type": "code",
   "execution_count": null,
   "metadata": {},
   "outputs": [],
   "source": [
    "# Define the teams for which we want to retrieve the data \n",
    "teams = [\"Warriors\", \"Lakers\", \"76ers\", \"Suns\", \"Nuggets\", \"Mavericks\"]\n",
    "\n",
    "# Add an MA41 column to the data\n",
    "data = dw.get_ma41_data(con)\n",
    "data = dw.clean_ma_data(data, teams)\n",
    "\n",
    "print(data)"
   ]
  },
  {
   "cell_type": "code",
   "execution_count": null,
   "metadata": {},
   "outputs": [],
   "source": []
  },
  {
   "cell_type": "code",
   "execution_count": null,
   "metadata": {},
   "outputs": [],
   "source": [
    "#con.close()"
   ]
  }
 ],
 "metadata": {
  "kernelspec": {
   "display_name": "nba",
   "language": "python",
   "name": "python3"
  },
  "language_info": {
   "codemirror_mode": {
    "name": "ipython",
    "version": 3
   },
   "file_extension": ".py",
   "mimetype": "text/x-python",
   "name": "python",
   "nbconvert_exporter": "python",
   "pygments_lexer": "ipython3",
   "version": "3.12.7"
  }
 },
 "nbformat": 4,
 "nbformat_minor": 2
}
