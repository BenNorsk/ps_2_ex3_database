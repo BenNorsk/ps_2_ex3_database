{
 "cells": [
  {
   "cell_type": "markdown",
   "metadata": {},
   "source": [
    "# NBA Data-Insights\n",
    "## The remarkable story of the rise of the 3-point shot\n",
    "In the last 30 years of the NBA, the 3-point shot became increasingly popular. At the forefront of this rise stands Steph Curry, the baby-faced assasin from the Golden States Warriors. Few have made the 3-point focused playing style look so appealing as Curry. However, the 3-point shot has been on the rise long before Curry's first appearance (in 2009 with the Warriors). This notebook examines the story of the 3-point shot using four insights drawn from NBA data."
   ]
  },
  {
   "cell_type": "markdown",
   "metadata": {},
   "source": [
    "## Preparation\n",
    "To prepare the notebook, the necessary module need to to be imported. "
   ]
  },
  {
   "cell_type": "code",
   "execution_count": null,
   "metadata": {},
   "outputs": [],
   "source": [
    "import sqlite3 as sql\n",
    "from pathlib import Path\n",
    "import nba.s01_data_wrangling as dw\n",
    "import nba.s02_data_visualisation as dv\n",
    "import warnings\n",
    "warnings.filterwarnings(\"ignore\")"
   ]
  },
  {
   "cell_type": "markdown",
   "metadata": {},
   "source": [
    "A connection is subsequently established to the NBA database which hosts the data from which the insight are derived."
   ]
  },
  {
   "cell_type": "code",
   "execution_count": null,
   "metadata": {},
   "outputs": [],
   "source": [
    "DATA_PATH = Path.cwd() / 'data/nba.sqlite'\n",
    "con = sql.connect(DATA_PATH)\n"
   ]
  },
  {
   "cell_type": "markdown",
   "metadata": {},
   "source": [
    "## 1. Insight: Attempting 3-pointers is a winning strategy\n",
    "\n",
    "We aim to examine whether attempting more 3-point shots makes winning more or less likely. To investigate this, we set up the following linear regression model:\n",
    "\n",
    "$$\n",
    "GameWon = B_0 + B_1 * fg3a\n",
    "$$\n",
    "\n",
    "- **GameWon**: A binary variable (0 or 1) indicating whether the team won (1) or lost (0).\n",
    "- **fg3a**: The share of attempted shots that were 3-point attempts.\n",
    "\n",
    "We run this regression for each year between 1990 and 2023 to obtain the coefficient (B1), showing how much 3-pointers contribute towards winning the game."
   ]
  },
  {
   "cell_type": "code",
   "execution_count": null,
   "metadata": {},
   "outputs": [],
   "source": [
    "# Load all games from the database\n",
    "games = dw.select_games(con)\n",
    "# Clean the data to get our regression data\n",
    "data = dw.create_fg3a_data(games)\n",
    "# Run the regressions for the years 1990 - 2023\n",
    "regression_results = dw.run_regressions(data)"
   ]
  },
  {
   "cell_type": "markdown",
   "metadata": {},
   "source": [
    "Having obtained the data, we create a time series plot indicating the value of the coefficient B1. The boundaries around the mean line show the 95%-standard-error band."
   ]
  },
  {
   "cell_type": "code",
   "execution_count": null,
   "metadata": {},
   "outputs": [],
   "source": [
    "args = {\n",
    "    'data': regression_results,\n",
    "    'y': 'fg3a_share_coefficient',\n",
    "    'x': 'year',\n",
    "    'se_min': 'se_min',\n",
    "    'se_max': 'se_max',\n",
    "    'regression': True,\n",
    "    'title': 'Importance of 3-Pointers for Winning in the NBA',\n",
    "    'xlabel': 'Year',\n",
    "    'ylabel': 'Coefficient (B1) of Share-of-3-Pointer Attempts (fg3a)',\n",
    "    'linecolor': '#FFC72C'\n",
    "}\n",
    "dv.time_series_plot(**args)"
   ]
  },
  {
   "cell_type": "markdown",
   "metadata": {},
   "source": [
    "**Insight:** The graph clearly demonstrates how the 3-point shot became increasingly more important for winning over the last 30 years throughout the entire NBA."
   ]
  },
  {
   "cell_type": "markdown",
   "metadata": {},
   "source": [
    "# 2. Insight: NBA players slowly become better at shooting 3-pointers\n",
    "\n",
    "With the 3-point shot becoming increasingly more relevant, one would expect that players also work on improving their 3-point shot. To test this, we examine how the success rate of 3-pointers (*three-point field goal efficacy*) changed since 1990."
   ]
  },
  {
   "cell_type": "code",
   "execution_count": null,
   "metadata": {},
   "outputs": [],
   "source": [
    "# Obtain the data containing the average 3-point shot success rate.\n",
    "data = dw.get_avg_fg3_data(con)\n",
    "print(data)"
   ]
  },
  {
   "cell_type": "markdown",
   "metadata": {},
   "source": [
    "Having loaded in the data, we visualise the success rate using a time series plot. "
   ]
  },
  {
   "cell_type": "code",
   "execution_count": null,
   "metadata": {},
   "outputs": [],
   "source": [
    "# Visualise the data using a time series plot\n",
    "args = {\n",
    "    'data': data,\n",
    "    'x': 'year',\n",
    "    'y': 'avg_fg3_pct_home',\n",
    "    'title': 'Success Rate of 3-Point-Shots in the NBA',\n",
    "    'xlabel': 'Year',\n",
    "    'regression': True,\n",
    "    'ylabel': 'Average 3-Point NBA Percentage per Year',\n",
    "    'linecolor': '#FFC72C'\n",
    "}\n",
    "dv.time_series_plot(**args)"
   ]
  },
  {
   "cell_type": "markdown",
   "metadata": {},
   "source": [
    "**Insight:** Players clearly became better at shooting 3-pointers in the 90ies. However, since the early 2000s, players only slowly improve their 3-point shots."
   ]
  },
  {
   "cell_type": "markdown",
   "metadata": {},
   "source": [
    "# 3. Insight: Curry's Golden State Warriors dominated the Western Conference\n",
    "\n",
    "The aforementioned Steph Curry, famous for his 3-point shot, plays since 2009 for the Golden State Warriors. The Golden State Warriors are interesting, as for 4 years in a row (between 2015-2019) they won the Western Conference. \n",
    "\n",
    "To track the dominance of the Warriors, we examine the win percentage of various Western Conference team using an MA(41) moving average process. \n",
    "\n",
    "$$ Win Percentage MA(41) = \\frac{1}{41}\\sum^{41}_{i}(GameWon_{i})$$\n",
    "\n",
    "- **GameWon**: A binary variable (0 or 1) indicating whether the team won (1) or lost (0).\n",
    "\n",
    "In a next step, we load the data for the Warriors and some other Western Conference teams.\n",
    "\n",
    "<sup>Footnote: We are using an MA(41) process, as a regular NBA season consists of 82 games per team. Since we only track home games (i.e., half of all games), an MA(41) process provides the win percentage of a team across \"one season\"—or, in this case, the most recent 41 games.</sup>"
   ]
  },
  {
   "cell_type": "code",
   "execution_count": null,
   "metadata": {},
   "outputs": [],
   "source": [
    "# Select the Western Conference Teams to analyse\n",
    "teams = [\"Warriors\", \"Lakers\", \"76ers\", \"Suns\", \"Nuggets\", \"Mavericks\"]\n",
    "\n",
    "# Add an MA41 column to the data\n",
    "data = dw.get_ma41_data(con)\n",
    "data = dw.clean_ma_data(data, teams)\n",
    "\n",
    "print(data)"
   ]
  },
  {
   "cell_type": "code",
   "execution_count": null,
   "metadata": {},
   "outputs": [],
   "source": [
    "# We visualise the data as a time series plot grouped by team\n",
    "args = {\n",
    "    \"data\": data,\n",
    "    \"x\": \"date\",\n",
    "    \"y\": \"ma_41\",\n",
    "    \"group_by\": \"team_name\",\n",
    "    \"title\": \"Avg. Winning Rates of Western Conference Teams\",\n",
    "    \"xlabel\": \"Year\",\n",
    "    \"ylabel\": \"Moving Average (MA-41) of Win Percentage per Team\",\n",
    "    \"main_team\": \"Warriors\",\n",
    "    \"linecolor\": \"#FFC72C\",\n",
    "    \"championship_years\": [(2015, 2019), (2022, 2022)]\n",
    "}\n",
    "\n",
    "dv.multi_team_visualisation(**args)"
   ]
  },
  {
   "cell_type": "markdown",
   "metadata": {},
   "source": [
    "**Insight:** Between 2015 and 2019, the Warriors were the dominant team in the Western Conference and won almost all of their games."
   ]
  },
  {
   "cell_type": "markdown",
   "metadata": {},
   "source": [
    "# 4. Insight: When the Warriors were dominant, they hit as many 3-pointers as none other\n",
    "\n",
    "It was established that the Warriors had some very successful years between 2015 and 2019. An interesting question to ask, is whether in their dominant period, the Warriors were also better at shooting 3-pointers. \n",
    "\n",
    "To answer the question, the data is loaded first."
   ]
  },
  {
   "cell_type": "code",
   "execution_count": null,
   "metadata": {},
   "outputs": [],
   "source": [
    "# Load the data of average 3-point shot success rate per team\n",
    "data = dw.get_3pt_success_rate(con, teams)\n",
    "print(data)"
   ]
  },
  {
   "cell_type": "code",
   "execution_count": null,
   "metadata": {},
   "outputs": [],
   "source": [
    "# Visualise the data using a time series plot grouped by team\n",
    "args = {\n",
    "    \"data\": data,\n",
    "    \"x\": \"year\",\n",
    "    \"y\": \"avg_fg3_pct_home\",\n",
    "    \"group_by\": \"team_nickname\",\n",
    "    \"title\": \"Success Rate of 3-Point-Shots of Western Conference Teams\",\n",
    "    \"xlabel\": \"Year\",\n",
    "    \"ylabel\": \"Yearly Average 3-Point Percentage per Team\",\n",
    "    \"main_team\": \"Warriors\",\n",
    "    \"linecolor\": \"#FFC72C\",\n",
    "    \"championship_years\": [(2015, 2019), (2022, 2022)]\n",
    "}\n",
    "\n",
    "dv.multi_team_visualisation(**args)"
   ]
  },
  {
   "cell_type": "markdown",
   "metadata": {},
   "source": [
    "**Insight:** The Warrios dominant years coincided with them sucessfully scoring more 3-pointers than any other team"
   ]
  },
  {
   "cell_type": "code",
   "execution_count": null,
   "metadata": {},
   "outputs": [],
   "source": [
    "# We close the connection to the database\n",
    "con.close()"
   ]
  },
  {
   "cell_type": "markdown",
   "metadata": {},
   "source": [
    "## Conclusion\n",
    "To conclude, the 3-point shot has seen a rising relevance in the NBA over the past 20 years. Its importance for winning games leads teams to continuously improve the 3-pointer skills of their players. A demonstration of the power of the 3-pointer is found in the case of the Golden State Warriors, which dominated the Western Conference and the NBA between 2015 - 2019. One significant factor of their dominance may be attributed to their team's exceptional ability to hit 3-point shots."
   ]
  }
 ],
 "metadata": {
  "kernelspec": {
   "display_name": "nba",
   "language": "python",
   "name": "python3"
  },
  "language_info": {
   "codemirror_mode": {
    "name": "ipython",
    "version": 3
   },
   "file_extension": ".py",
   "mimetype": "text/x-python",
   "name": "python",
   "nbconvert_exporter": "python",
   "pygments_lexer": "ipython3",
   "version": "3.12.7"
  }
 },
 "nbformat": 4,
 "nbformat_minor": 2
}
